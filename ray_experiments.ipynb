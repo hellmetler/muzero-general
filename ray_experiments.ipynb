{
 "cells": [
  {
   "cell_type": "code",
   "execution_count": 1,
   "metadata": {},
   "outputs": [
    {
     "name": "stdout",
     "output_type": "stream",
     "text": [
      "Populating the interactive namespace from numpy and matplotlib\n"
     ]
    },
    {
     "name": "stderr",
     "output_type": "stream",
     "text": [
      "C:\\ProgramData\\Anaconda3\\lib\\site-packages\\IPython\\core\\magics\\pylab.py:160: UserWarning: pylab import has clobbered these variables: ['copy']\n",
      "`%matplotlib` prevents importing * from pylab and numpy\n",
      "  \"\\n`%matplotlib` prevents importing * from pylab and numpy\"\n"
     ]
    }
   ],
   "source": [
    "import ray\n",
    "import numpy as np\n",
    "import time\n",
    "import copy\n",
    "from IPython.display import clear_output\n",
    "%pylab inline"
   ]
  },
  {
   "cell_type": "code",
   "execution_count": 2,
   "metadata": {},
   "outputs": [],
   "source": [
    "import tensorflow as tf"
   ]
  },
  {
   "cell_type": "code",
   "execution_count": null,
   "metadata": {},
   "outputs": [],
   "source": []
  },
  {
   "cell_type": "code",
   "execution_count": 3,
   "metadata": {},
   "outputs": [],
   "source": [
    "from games.tictactoe import MuZeroConfig\n",
    "from models_tf import MuZeroNetwork as MuZeroNetworkTF\n",
    "from models_tf import support_to_scalar as support_to_scalar_tf\n",
    "from trainer_tf import scalar_to_support as scalar_to_support_tf\n",
    "from models import MuZeroNetwork\n",
    "from models import support_to_scalar,scalar_to_support"
   ]
  },
  {
   "cell_type": "code",
   "execution_count": 9,
   "metadata": {},
   "outputs": [],
   "source": [
    "import torch\n",
    "import tensorflow as tf"
   ]
  },
  {
   "cell_type": "code",
   "execution_count": 4,
   "metadata": {},
   "outputs": [],
   "source": [
    "conf = MuZeroConfig()"
   ]
  },
  {
   "cell_type": "code",
   "execution_count": 5,
   "metadata": {},
   "outputs": [
    {
     "name": "stdout",
     "output_type": "stream",
     "text": [
      "WARNING:tensorflow:From D:\\Personal\\Study\\muzero-general\\models_tf.py:46: The name tf.get_default_session is deprecated. Please use tf.compat.v1.get_default_session instead.\n",
      "\n",
      "WARNING:tensorflow:From D:\\Personal\\Study\\muzero-general\\models_tf.py:59: The name tf.placeholder is deprecated. Please use tf.compat.v1.placeholder instead.\n",
      "\n",
      "WARNING:tensorflow:From C:\\ProgramData\\Anaconda3\\lib\\site-packages\\tensorflow\\python\\ops\\init_ops.py:1251: calling VarianceScaling.__init__ (from tensorflow.python.ops.init_ops) with dtype is deprecated and will be removed in a future version.\n",
      "Instructions for updating:\n",
      "Call initializer instance with the dtype argument instead of passing it to the constructor\n"
     ]
    }
   ],
   "source": [
    "tf_net = MuZeroNetworkTF(conf,False)"
   ]
  },
  {
   "cell_type": "code",
   "execution_count": 6,
   "metadata": {},
   "outputs": [],
   "source": [
    "torch_net = MuZeroNetwork(conf)"
   ]
  },
  {
   "cell_type": "code",
   "execution_count": 53,
   "metadata": {},
   "outputs": [],
   "source": [
    "test_inp = np.random.random((100,1))*40-20"
   ]
  },
  {
   "cell_type": "code",
   "execution_count": 54,
   "metadata": {},
   "outputs": [],
   "source": [
    "device = next(torch_net.parameters()).device"
   ]
  },
  {
   "cell_type": "code",
   "execution_count": 55,
   "metadata": {},
   "outputs": [],
   "source": [
    "inp_tens=torch.tensor(test_inp).float()"
   ]
  },
  {
   "cell_type": "code",
   "execution_count": 58,
   "metadata": {},
   "outputs": [],
   "source": [
    "support_view = scalar_to_support(inp_tens.reshape(100,1),10).numpy()"
   ]
  },
  {
   "cell_type": "code",
   "execution_count": 70,
   "metadata": {},
   "outputs": [],
   "source": [
    "inp_sc_ph = tf.placeholder(tf.float32,[None,None,1],'inp_sc')\n",
    "out_sup = scalar_to_support_tf(inp_sc_ph,10)\n",
    "support_view_tf = tf_net.sess.run(out_sup,{inp_sc_ph:test_inp.reshape(-1,1,1)})"
   ]
  },
  {
   "cell_type": "code",
   "execution_count": 72,
   "metadata": {},
   "outputs": [
    {
     "data": {
      "text/plain": [
       "((100, 1, 21), (100, 1, 21))"
      ]
     },
     "execution_count": 72,
     "metadata": {},
     "output_type": "execute_result"
    }
   ],
   "source": [
    "support_view.shape,support_view_tf.shape"
   ]
  },
  {
   "cell_type": "code",
   "execution_count": 100,
   "metadata": {},
   "outputs": [
    {
     "data": {
      "text/plain": [
       "4.7683716e-07"
      ]
     },
     "execution_count": 100,
     "metadata": {},
     "output_type": "execute_result"
    }
   ],
   "source": [
    "np.abs((support_view-support_view_tf)).max()"
   ]
  },
  {
   "cell_type": "code",
   "execution_count": 86,
   "metadata": {},
   "outputs": [
    {
     "name": "stderr",
     "output_type": "stream",
     "text": [
      "C:\\ProgramData\\Anaconda3\\lib\\site-packages\\ipykernel_launcher.py:1: RuntimeWarning: divide by zero encountered in log\n",
      "  \"\"\"Entry point for launching an IPython kernel.\n"
     ]
    }
   ],
   "source": [
    "scalar_view = support_to_scalar(torch.tensor(np.log(support_view).reshape(100,21)).float(),10).numpy()"
   ]
  },
  {
   "cell_type": "code",
   "execution_count": 102,
   "metadata": {
    "scrolled": true
   },
   "outputs": [
    {
     "name": "stderr",
     "output_type": "stream",
     "text": [
      "C:\\ProgramData\\Anaconda3\\lib\\site-packages\\ipykernel_launcher.py:3: RuntimeWarning: divide by zero encountered in log\n",
      "  This is separate from the ipykernel package so we can avoid doing imports until\n"
     ]
    }
   ],
   "source": [
    "inp_supp_ph = tf.placeholder(tf.float32,[None,21],'inp_sup')\n",
    "out_sc = support_to_scalar_tf(inp_supp_ph,10)\n",
    "scalar_view_tf = tf_net.sess.run(out_sc,{inp_supp_ph:np.log(support_view_tf).reshape(-1,21)})"
   ]
  },
  {
   "cell_type": "code",
   "execution_count": 103,
   "metadata": {
    "scrolled": true
   },
   "outputs": [
    {
     "data": {
      "text/plain": [
       "0.00053977966"
      ]
     },
     "execution_count": 103,
     "metadata": {},
     "output_type": "execute_result"
    }
   ],
   "source": [
    "np.abs(scalar_view-scalar_view_tf).max()"
   ]
  },
  {
   "cell_type": "code",
   "execution_count": 104,
   "metadata": {
    "scrolled": true
   },
   "outputs": [
    {
     "data": {
      "text/plain": [
       "0.0003540702881963398"
      ]
     },
     "execution_count": 104,
     "metadata": {},
     "output_type": "execute_result"
    }
   ],
   "source": [
    "np.abs(scalar_view_tf.flatten() - test_inp.flatten()).max()"
   ]
  },
  {
   "cell_type": "code",
   "execution_count": 106,
   "metadata": {
    "scrolled": true
   },
   "outputs": [
    {
     "data": {
      "text/plain": [
       "0.00043045228527915924"
      ]
     },
     "execution_count": 106,
     "metadata": {},
     "output_type": "execute_result"
    }
   ],
   "source": [
    "np.abs(scalar_view.flatten() - test_inp.flatten()).max()"
   ]
  },
  {
   "cell_type": "code",
   "execution_count": 81,
   "metadata": {
    "scrolled": true
   },
   "outputs": [
    {
     "name": "stdout",
     "output_type": "stream",
     "text": [
      "torch.Size([16, 3, 3, 3])\n",
      "torch.Size([16])\n",
      "torch.Size([16])\n",
      "torch.Size([16, 16, 3, 3])\n",
      "torch.Size([16])\n",
      "torch.Size([16])\n",
      "torch.Size([16, 16, 3, 3])\n",
      "torch.Size([16])\n",
      "torch.Size([16])\n",
      "torch.Size([16, 17, 3, 3])\n",
      "torch.Size([16])\n",
      "torch.Size([16])\n",
      "torch.Size([16, 16, 3, 3])\n",
      "torch.Size([16])\n",
      "torch.Size([16])\n",
      "torch.Size([16, 16, 3, 3])\n",
      "torch.Size([16])\n",
      "torch.Size([16])\n",
      "torch.Size([16, 16, 1, 1])\n",
      "torch.Size([16])\n",
      "torch.Size([8, 144])\n",
      "torch.Size([8])\n",
      "torch.Size([21, 8])\n",
      "torch.Size([21])\n",
      "torch.Size([16, 16, 3, 3])\n",
      "torch.Size([16])\n",
      "torch.Size([16])\n",
      "torch.Size([16, 16, 3, 3])\n",
      "torch.Size([16])\n",
      "torch.Size([16])\n",
      "torch.Size([16, 16, 1, 1])\n",
      "torch.Size([16])\n",
      "torch.Size([16, 16, 1, 1])\n",
      "torch.Size([16])\n",
      "torch.Size([8, 144])\n",
      "torch.Size([8])\n",
      "torch.Size([21, 8])\n",
      "torch.Size([21])\n",
      "torch.Size([8, 144])\n",
      "torch.Size([8])\n",
      "torch.Size([9, 8])\n",
      "torch.Size([9])\n"
     ]
    }
   ],
   "source": [
    "num_params = 0\n",
    "for a in torch_net.parameters():\n",
    "    print(a.shape)\n",
    "    num_params+=np.array(a.shape).prod()"
   ]
  },
  {
   "cell_type": "code",
   "execution_count": 82,
   "metadata": {},
   "outputs": [
    {
     "data": {
      "text/plain": [
       "21715"
      ]
     },
     "execution_count": 82,
     "metadata": {},
     "output_type": "execute_result"
    }
   ],
   "source": [
    "num_params"
   ]
  },
  {
   "cell_type": "code",
   "execution_count": 83,
   "metadata": {
    "scrolled": false
   },
   "outputs": [
    {
     "name": "stdout",
     "output_type": "stream",
     "text": [
      "(3, 3, 16, 16)\n",
      "(16,)\n",
      "(16,)\n",
      "(3, 3, 16, 16)\n",
      "(16,)\n",
      "(16,)\n",
      "(1, 1, 16, 16)\n",
      "(16,)\n",
      "(1, 1, 16, 16)\n",
      "(16,)\n",
      "(144, 8)\n",
      "(8,)\n",
      "(144, 8)\n",
      "(8,)\n",
      "(8, 9)\n",
      "(9,)\n",
      "(8, 21)\n",
      "(21,)\n"
     ]
    }
   ],
   "source": [
    "num_params = 0\n",
    "for a in tf_net.prediction_model.trainable_weights:\n",
    "    print(a.shape)\n",
    "    s = np.array(a.shape).prod()\n",
    "    num_params+=s"
   ]
  },
  {
   "cell_type": "code",
   "execution_count": 80,
   "metadata": {},
   "outputs": [
    {
     "data": {
      "text/plain": [
       "Dimension(7806)"
      ]
     },
     "execution_count": 80,
     "metadata": {},
     "output_type": "execute_result"
    }
   ],
   "source": [
    "num_params"
   ]
  },
  {
   "cell_type": "code",
   "execution_count": null,
   "metadata": {},
   "outputs": [],
   "source": []
  },
  {
   "cell_type": "code",
   "execution_count": 45,
   "metadata": {},
   "outputs": [],
   "source": [
    "params = (tf_net.representation_model.trainable_weights +\n",
    "                  tf_net.prediction_model.trainable_weights +\n",
    "                  tf_net.dynamics_model.trainable_weights)"
   ]
  },
  {
   "cell_type": "code",
   "execution_count": 54,
   "metadata": {},
   "outputs": [
    {
     "data": {
      "text/plain": [
       "Dimension(864)"
      ]
     },
     "execution_count": 54,
     "metadata": {},
     "output_type": "execute_result"
    }
   ],
   "source": [
    "np.array(tf_net.representation_model.trainable_weights[0].shape).prod()"
   ]
  },
  {
   "cell_type": "code",
   "execution_count": 39,
   "metadata": {},
   "outputs": [
    {
     "data": {
      "text/plain": [
       "21971"
      ]
     },
     "execution_count": 39,
     "metadata": {},
     "output_type": "execute_result"
    }
   ],
   "source": [
    "tf_net.representation_model.count_params()+tf_net.prediction_model.count_params()+tf_net.dynamics_model.count_params()"
   ]
  },
  {
   "cell_type": "code",
   "execution_count": 40,
   "metadata": {},
   "outputs": [
    {
     "data": {
      "text/plain": [
       "5232"
      ]
     },
     "execution_count": 40,
     "metadata": {},
     "output_type": "execute_result"
    }
   ],
   "source": [
    "tf_net.representation_model.count_params()"
   ]
  },
  {
   "cell_type": "code",
   "execution_count": 2,
   "metadata": {},
   "outputs": [],
   "source": [
    "def distrib_func(x,noise_std = 0.1):\n",
    "    r_sq = np.square(x).sum(axis = 1,keepdims = True)\n",
    "    y = np.exp(-0.1*r_sq)*np.cos(r_sq)\n",
    "    \n",
    "    noise = np.random.normal(scale = noise_std,size = y.shape)\n",
    "    return y+noise\n",
    "    \n",
    "    "
   ]
  },
  {
   "cell_type": "code",
   "execution_count": null,
   "metadata": {},
   "outputs": [],
   "source": []
  },
  {
   "cell_type": "code",
   "execution_count": 3,
   "metadata": {},
   "outputs": [],
   "source": [
    "x = np.random.random(size = (1000,2))*10-5\n",
    "x[:,1] = 0\n",
    "y = distrib_func(x)"
   ]
  },
  {
   "cell_type": "code",
   "execution_count": 4,
   "metadata": {},
   "outputs": [
    {
     "data": {
      "text/plain": [
       "[<matplotlib.lines.Line2D at 0x252541bb0f0>]"
      ]
     },
     "execution_count": 4,
     "metadata": {},
     "output_type": "execute_result"
    },
    {
     "data": {
      "image/png": "[encoded data removed]",
      "text/plain": [
       "<Figure size 432x288 with 1 Axes>"
      ]
     },
     "metadata": {
      "needs_background": "light"
     },
     "output_type": "display_data"
    }
   ],
   "source": [
    "plt.plot(x[:,0],y,'o')"
   ]
  },
  {
   "cell_type": "code",
   "execution_count": 5,
   "metadata": {},
   "outputs": [],
   "source": [
    "def create_data_batch(batch_size = 16):\n",
    "    x = np.random.random(size = (batch_size,2))*10-5\n",
    "    y = distrib_func(x)\n",
    "    return x,y"
   ]
  },
  {
   "cell_type": "code",
   "execution_count": 6,
   "metadata": {},
   "outputs": [],
   "source": [
    "test_x,test_y = create_data_batch(batch_size = 64)"
   ]
  },
  {
   "cell_type": "code",
   "execution_count": 7,
   "metadata": {},
   "outputs": [],
   "source": [
    "class Model:\n",
    "    def __init__(self, inp_size = (2,)):\n",
    "        import tensorflow as tf\n",
    "        sess = tf.get_default_session()\n",
    "        if sess is not None:\n",
    "            self.sess = sess\n",
    "        else:\n",
    "            self.sess = tf.compat.v1.InteractiveSession()\n",
    "        self.inp_size = inp_size\n",
    "        self.feature_size = 128\n",
    "        \n",
    "        self.model_1 = self.get_model_1()\n",
    "        self.model_2 = self.get_model_2()\n",
    "        self.model_3 = self.get_model_3()\n",
    "        \n",
    "        self.in_ph = tf.placeholder(tf.float32,(None,)+self.inp_size, 'in_ph')\n",
    "        self.conc_ph = tf.placeholder(tf.float32,(None,)+(self.feature_size*2,), 'feats_ph')\n",
    "        self.out_1_2 = self.run_1_2_anf_concat(self.in_ph)\n",
    "        self.out_3 = self.run_3(self.conc_ph)\n",
    "        \n",
    "        tmp_w = self.get_weights()\n",
    "        self.sess.run(tf.compat.v1.global_variables_initializer())\n",
    "        self.set_weights(tmp_w)\n",
    "    def get_model_1(self):\n",
    "        import tensorflow as tf\n",
    "        inp = tf.keras.layers.Input(self.inp_size)\n",
    "        x = tf.keras.layers.Dense(self.feature_size,activation = 'relu')(inp)\n",
    "        model = tf.keras.models.Model(inp,x)\n",
    "        return model\n",
    "    def get_model_2(self):\n",
    "        import tensorflow as tf\n",
    "        inp = tf.keras.layers.Input(self.inp_size)\n",
    "        x = tf.keras.layers.Dense(self.feature_size,activation = 'relu')(inp)\n",
    "        model = tf.keras.models.Model(inp,x)\n",
    "        return model\n",
    "    def get_model_3(self):\n",
    "        import tensorflow as tf\n",
    "        inp = tf.keras.layers.Input((self.feature_size*2,))\n",
    "        x = tf.keras.layers.Dense(self.feature_size,activation = 'relu')(inp)\n",
    "        x = tf.keras.layers.Dense(1)(x)\n",
    "        model = tf.keras.models.Model(inp,x)\n",
    "        return model\n",
    "    \n",
    "    def get_weights(self):\n",
    "        return [self.model_1.get_weights(),\n",
    "                self.model_2.get_weights(),\n",
    "                self.model_3.get_weights()]\n",
    "    def set_weights(self,weights):\n",
    "        self.model_1.set_weights(weights[0])\n",
    "        self.model_2.set_weights(weights[1])\n",
    "        self.model_3.set_weights(weights[2])\n",
    "        \n",
    "    \n",
    "    def run_1_2_anf_concat(self,tensor_in):\n",
    "        import tensorflow as tf\n",
    "        stand = ((tensor_in+5.)/10.)*2.-1.\n",
    "        a= self.model_1(stand)\n",
    "        b= self.model_2(stand)\n",
    "        c = tf.concat(values=[a,b],axis = -1)\n",
    "        return c\n",
    "    def run_3(self,tensor_in):\n",
    "        return self.model_3(tensor_in)\n",
    "    \n",
    "    def predict_hidden(self,inp):\n",
    "        out = self.sess.run(self.out_1_2,{self.in_ph:inp})\n",
    "        return out\n",
    "    def predict_out(self,inp):\n",
    "        out = self.sess.run(self.out_3,{self.conc_ph:inp})\n",
    "        return out\n",
    "    def predict_all(self,inp):\n",
    "        out_1 = self.predict_hidden(inp)\n",
    "        out_2 = self.predict_out(out_1)\n",
    "        return out_2"
   ]
  },
  {
   "cell_type": "code",
   "execution_count": 8,
   "metadata": {},
   "outputs": [],
   "source": [
    "@ray.remote\n",
    "class SharedStorage:\n",
    "    \"\"\"\n",
    "    Class which run in a dedicated thread to store the network weights and some information.\n",
    "    \"\"\"\n",
    "    def __init__(self, checkpoint):\n",
    "        self.current_checkpoint = checkpoint\n",
    "\n",
    "    def get_checkpoint(self):\n",
    "        return self.current_checkpoint\n",
    "    def get_info(self, keys):\n",
    "        if isinstance(keys, str):\n",
    "            return self.current_checkpoint[keys]\n",
    "        elif isinstance(keys, list):\n",
    "            return {key: self.current_checkpoint[key] for key in keys}\n",
    "        else:\n",
    "            raise TypeError\n",
    "    def set_info(self, keys, values=None):\n",
    "        if isinstance(keys, str) and values is not None:\n",
    "            self.current_checkpoint[keys] = values\n",
    "        elif isinstance(keys, dict):\n",
    "            self.current_checkpoint.update(keys)\n",
    "        else:\n",
    "            raise TypeError"
   ]
  },
  {
   "cell_type": "code",
   "execution_count": 9,
   "metadata": {},
   "outputs": [],
   "source": [
    "@ray.remote\n",
    "class ReplayBuffer:\n",
    "    \"\"\"\n",
    "    Class which run in a dedicated thread to store the network weights and some information.\n",
    "    \"\"\"\n",
    "    def __init__(self):\n",
    "        self.buffer = {}\n",
    "        self.cur_idx_min = 0\n",
    "        self.cur_idx_max = 0\n",
    "        self.max_size = 3000\n",
    "        self.batch_size = 128\n",
    "        rewards_history = []\n",
    "\n",
    "    def save_game(self,x,y,preds,shared_storage = None):\n",
    "        for a,b,c in zip(x,y,preds):\n",
    "            self.buffer[self.cur_idx_max] = (a,b,c)\n",
    "            self.cur_idx_max+=1\n",
    "            \n",
    "            if self.cur_idx_max>self.max_size:\n",
    "                del self.buffer[self.cur_idx_min]\n",
    "                self.cur_idx_min+=1\n",
    "                \n",
    "        if shared_storage:\n",
    "            shared_storage.set_info.remote(\"num_played_games\", self.cur_idx_max)\n",
    "    def sample_batch(self):\n",
    "        ids = self.cur_idx_min + np.random.choice(self.cur_idx_max-self.cur_idx_min,self.batch_size)\n",
    "        x_batch = []\n",
    "        y_batch = []\n",
    "        for idx in ids:\n",
    "            buf = self.buffer[idx]\n",
    "            x_batch.append(buf[0])\n",
    "            y_batch.append(buf[1])\n",
    "        return np.vstack(x_batch),np.vstack(y_batch)\n",
    "    \n",
    "    def get_latest_loss(self):\n",
    "        ids = np.arange(self.cur_idx_max -self.batch_size,self.cur_idx_max,dtype = int)\n",
    "        y_trg = []\n",
    "        y_pred = []\n",
    "        for idx in ids:\n",
    "            if idx in self.buffer:\n",
    "                buf = self.buffer[idx]\n",
    "                y_trg.append(buf[1])\n",
    "                y_pred.append(buf[2])\n",
    "        if len(y_trg)>1:\n",
    "            y_trg,y_pred = np.vstack(y_trg),np.vstack(y_pred)\n",
    "        else:\n",
    "            y_trg,y_pred = 0,0\n",
    "        return np.mean(np.square(y_trg-y_pred))"
   ]
  },
  {
   "cell_type": "code",
   "execution_count": 10,
   "metadata": {},
   "outputs": [],
   "source": [
    "@ray.remote\n",
    "class Player():\n",
    "    def __init__(self,checkpoint):\n",
    "        self.model = Model()\n",
    "        self.model.set_weights(checkpoint['weights'])\n",
    "        self.played_iters = 0\n",
    "        self.to_play = 100000000\n",
    "        \n",
    "        \n",
    "    def play(self,shared_storage,replay_buffer):\n",
    "        while self.played_iters<self.to_play:\n",
    "            self.model.set_weights(ray.get(shared_storage.get_info.remote(\"weights\")))\n",
    "            x,y = create_data_batch(64)\n",
    "            preds = self.model.predict_all(x)\n",
    "            replay_buffer.save_game.remote(x,y,preds,shared_storage)\n",
    "            self.played_iters+=1"
   ]
  },
  {
   "cell_type": "code",
   "execution_count": 11,
   "metadata": {},
   "outputs": [],
   "source": [
    "@ray.remote\n",
    "class Trainer():\n",
    "    def __init__(self,checkpoint=None):\n",
    "        import tensorflow as tf\n",
    "        self.steps_done = 0\n",
    "        self.max_train_steps = 10000000\n",
    "        self.checkpoint_interval = 100\n",
    "        self.model = Model()\n",
    "        if checkpoint:\n",
    "            init_w = checkpoint['weights']\n",
    "            self.model.set_weights(init_w)\n",
    "        self.sess = self.model.sess\n",
    "        self.in_ph = tf.placeholder(tf.float32,(None,)+self.model.inp_size, 'in_ph')\n",
    "        self.target_ph = tf.placeholder(tf.float32,(None,1), 'trg_ph')\n",
    "        \n",
    "        self.optimizer = tf.compat.v1.train.AdamOptimizer(0.01)\n",
    "        [self.loss,self.make_train_step] = self.train_symbolic(self.in_ph, self.target_ph)\n",
    "        tmp_w = self.model.get_weights()\n",
    "        self.sess.run(tf.compat.v1.global_variables_initializer())\n",
    "        self.model.set_weights(tmp_w)\n",
    "        \n",
    "    \n",
    "    def train_symbolic(self,inp, trg):\n",
    "        import tensorflow as tf\n",
    "        h = self.model.run_1_2_anf_concat(inp)\n",
    "        out = self.model.run_3(h)\n",
    "        loss = tf.reduce_mean(tf.square(out-trg))\n",
    "        step = self.optimizer.minimize(loss)\n",
    "        return loss, step\n",
    "    \n",
    "    def make_step(self,train_batch):\n",
    "        x_batch,y_batch = train_batch            \n",
    "        loss,_ = self.sess.run([self.loss,self.make_train_step],{self.in_ph: x_batch,\n",
    "                                                                 self.target_ph: y_batch})\n",
    "        return loss\n",
    "    \n",
    "    def train(self,replay_buffer, shared_storage):\n",
    "        while ray.get(shared_storage.get_info.remote(\"num_played_games\")) < 1:\n",
    "            time.sleep(1)\n",
    "        while self.steps_done<self.max_train_steps:\n",
    "            train_batch = ray.get(replay_buffer.sample_batch.remote())\n",
    "            loss = self.make_step(train_batch)\n",
    "            self.steps_done+=1\n",
    "            info_to_storage = ray.put({\n",
    "                        \"weights\": self.model.get_weights(),\n",
    "                        \"loss\": loss})\n",
    "            if self.steps_done % self.checkpoint_interval == 0:\n",
    "                shared_storage.set_info.remote(info_to_storage)\n",
    "                \n",
    "    def train_standalone(self,replay_buffer, shared_storage):\n",
    "        while ray.get(shared_storage.get_info.remote(\"num_played_games\")) < 1:\n",
    "            time.sleep(1)\n",
    "        while self.steps_done<self.max_train_steps:\n",
    "            train_batch = create_data_batch(64)\n",
    "            loss = self.make_step(train_batch)\n",
    "            self.steps_done+=1\n",
    "            info_to_storage = ray.put({\n",
    "                        \"weights\": self.model.get_weights(),\n",
    "                        \"loss\": loss})\n",
    "            if self.steps_done % self.checkpoint_interval == 0:\n",
    "                shared_storage.set_info.remote(info_to_storage)\n",
    "                \n",
    "#             time.sleep(0.5)\n",
    "            "
   ]
  },
  {
   "cell_type": "code",
   "execution_count": 12,
   "metadata": {},
   "outputs": [],
   "source": [
    "@ray.remote(num_cpus=0, num_gpus=0)\n",
    "class CPUActor:\n",
    "    # Trick to force DataParallel to stay on CPU to get weights on CPU even if there is a GPU\n",
    "    def __init__(self):\n",
    "        pass\n",
    "    def get_initial_weights(self):\n",
    "        model = Model()\n",
    "        weigths = model.get_weights()\n",
    "        # summary = str(model).replace(\"\\n\", \" \\n\\n\")\n",
    "        return weigths"
   ]
  },
  {
   "cell_type": "code",
   "execution_count": 13,
   "metadata": {},
   "outputs": [],
   "source": [
    "# trainer = Trainer()"
   ]
  },
  {
   "cell_type": "code",
   "execution_count": 14,
   "metadata": {
    "scrolled": true
   },
   "outputs": [],
   "source": [
    "# played_steps = []\n",
    "# train_losses = []\n",
    "# for ep in range(100):\n",
    "#     for s in range(1000):\n",
    "#         train_batch = create_data_batch(512)\n",
    "#         train_loss = trainer.make_step(train_batch)\n",
    "#         train_losses.append(train_loss)\n",
    "\n",
    "#     clear_output(True)\n",
    "#     plt.plot(train_losses)  \n",
    "#     plt.show()\n",
    "#     plt.ylim(0,0.4)\n",
    "    "
   ]
  },
  {
   "cell_type": "code",
   "execution_count": null,
   "metadata": {},
   "outputs": [],
   "source": []
  },
  {
   "cell_type": "code",
   "execution_count": null,
   "metadata": {},
   "outputs": [],
   "source": []
  },
  {
   "cell_type": "code",
   "execution_count": null,
   "metadata": {},
   "outputs": [],
   "source": []
  },
  {
   "cell_type": "code",
   "execution_count": 15,
   "metadata": {},
   "outputs": [
    {
     "name": "stderr",
     "output_type": "stream",
     "text": [
      "2021-02-17 11:29:36,174\tINFO services.py:1173 -- View the Ray dashboard at \u001b[1m\u001b[32mhttp://127.0.0.1:8265\u001b[39m\u001b[22m\n"
     ]
    },
    {
     "data": {
      "text/plain": [
       "{'node_ip_address': '192.168.1.200',\n",
       " 'raylet_ip_address': '192.168.1.200',\n",
       " 'redis_address': '192.168.1.200:6379',\n",
       " 'object_store_address': 'tcp://127.0.0.1:65408',\n",
       " 'raylet_socket_name': 'tcp://127.0.0.1:65464',\n",
       " 'webui_url': '127.0.0.1:8265',\n",
       " 'session_dir': 'C:\\\\Users\\\\PAVELK~1.ALT\\\\AppData\\\\Local\\\\Temp\\\\ray\\\\session_2021-02-17_11-29-34_885682_10280',\n",
       " 'metrics_export_port': 65488,\n",
       " 'node_id': '5057f7d8c801c5baba6a78ece83e17d4b21acae8'}"
      ]
     },
     "execution_count": 15,
     "metadata": {},
     "output_type": "execute_result"
    }
   ],
   "source": [
    "ray.init()"
   ]
  },
  {
   "cell_type": "code",
   "execution_count": 16,
   "metadata": {},
   "outputs": [],
   "source": [
    "checkpoint = {\"weights\": None,\"loss\":0,'num_played_games':0}"
   ]
  },
  {
   "cell_type": "code",
   "execution_count": 17,
   "metadata": {
    "scrolled": true
   },
   "outputs": [],
   "source": [
    "cpu_actor = CPUActor.remote()\n",
    "cpu_weights = cpu_actor.get_initial_weights.remote()"
   ]
  },
  {
   "cell_type": "code",
   "execution_count": 18,
   "metadata": {
    "scrolled": true
   },
   "outputs": [
    {
     "name": "stderr",
     "output_type": "stream",
     "text": [
      "\u001b[2m\u001b[36m(pid=7156)\u001b[0m 2021-02-17 11:29:46.327430: I tensorflow/core/platform/cpu_feature_guard.cc:142] Your CPU supports instructions that this TensorFlow binary was not compiled to use: AVX2\n",
      "\u001b[2m\u001b[36m(pid=7156)\u001b[0m 2021-02-17 11:29:46.345093: I tensorflow/stream_executor/platform/default/dso_loader.cc:42] Successfully opened dynamic library nvcuda.dll\n",
      "\u001b[2m\u001b[36m(pid=7156)\u001b[0m 2021-02-17 11:29:46.499464: I tensorflow/core/common_runtime/gpu/gpu_device.cc:1640] Found device 0 with properties: \n",
      "\u001b[2m\u001b[36m(pid=7156)\u001b[0m name: GeForce RTX 2080 Ti major: 7 minor: 5 memoryClockRate(GHz): 1.545\n",
      "\u001b[2m\u001b[36m(pid=7156)\u001b[0m pciBusID: 0000:42:00.0\n",
      "\u001b[2m\u001b[36m(pid=7156)\u001b[0m 2021-02-17 11:29:46.508221: I tensorflow/stream_executor/platform/default/dlopen_checker_stub.cc:25] GPU libraries are statically linked, skip dlopen check.\n",
      "\u001b[2m\u001b[36m(pid=7156)\u001b[0m 2021-02-17 11:29:46.511316: I tensorflow/core/common_runtime/gpu/gpu_device.cc:1763] Adding visible gpu devices: 0\n",
      "\u001b[2m\u001b[36m(pid=7156)\u001b[0m 2021-02-17 11:29:47.349318: I tensorflow/core/common_runtime/gpu/gpu_device.cc:1181] Device interconnect StreamExecutor with strength 1 edge matrix:\n",
      "\u001b[2m\u001b[36m(pid=7156)\u001b[0m 2021-02-17 11:29:47.351576: I tensorflow/core/common_runtime/gpu/gpu_device.cc:1187]      0 \n",
      "\u001b[2m\u001b[36m(pid=7156)\u001b[0m 2021-02-17 11:29:47.352990: I tensorflow/core/common_runtime/gpu/gpu_device.cc:1200] 0:   N \n",
      "\u001b[2m\u001b[36m(pid=7156)\u001b[0m 2021-02-17 11:29:47.355109: I tensorflow/core/common_runtime/gpu/gpu_device.cc:1326] Created TensorFlow device (/job:localhost/replica:0/task:0/device:GPU:0 with 8695 MB memory) -> physical GPU (device: 0, name: GeForce RTX 2080 Ti, pci bus id: 0000:42:00.0, compute capability: 7.5)\n",
      "\u001b[2m\u001b[36m(pid=7156)\u001b[0m WARNING:tensorflow:From C:\\ProgramData\\Anaconda3\\lib\\site-packages\\tensorflow\\python\\ops\\init_ops.py:1251: calling VarianceScaling.__init__ (from tensorflow.python.ops.init_ops) with dtype is deprecated and will be removed in a future version.\n",
      "\u001b[2m\u001b[36m(pid=7156)\u001b[0m Instructions for updating:\n",
      "\u001b[2m\u001b[36m(pid=7156)\u001b[0m Call initializer instance with the dtype argument instead of passing it to the constructor\n"
     ]
    }
   ],
   "source": [
    "checkpoint[\"weights\"] = ray.get(cpu_weights)"
   ]
  },
  {
   "cell_type": "code",
   "execution_count": 19,
   "metadata": {
    "scrolled": true
   },
   "outputs": [],
   "source": [
    "training_worker = Trainer.options(num_cpus=0, num_gpus=0).remote(checkpoint)\n",
    "\n",
    "shared_storage_worker = SharedStorage.remote(checkpoint)\n",
    "\n",
    "replay_buffer_worker = ReplayBuffer.remote()\n",
    "\n",
    "num_workers = 4\n",
    "\n",
    "self_play_workers = [Player.options(num_cpus=0,num_gpus=0).remote(checkpoint)\n",
    "            for seed in range(num_workers)\n",
    "        ]"
   ]
  },
  {
   "cell_type": "code",
   "execution_count": 20,
   "metadata": {
    "scrolled": true
   },
   "outputs": [
    {
     "data": {
      "text/plain": [
       "ObjectRef(fafba2bafaed5dc37bbd90280100000001000000)"
      ]
     },
     "execution_count": 20,
     "metadata": {},
     "output_type": "execute_result"
    },
    {
     "name": "stderr",
     "output_type": "stream",
     "text": [
      "\u001b[2m\u001b[36m(pid=7268)\u001b[0m 2021-02-17 11:30:02.135723: I tensorflow/core/platform/cpu_feature_guard.cc:142] Your CPU supports instructions that this TensorFlow binary was not c\n",
      "\u001b[2m\u001b[36m(pid=21832)\u001b[0m 2021-02-17 11:30:02.136485: I tensorflow/core/platform/cpu_feature_guard.cc:142] Your CPU supports instructions that this TensorFlow binary \n",
      "\u001b[2m\u001b[36m(pid=21832)\u001b[0m w\n",
      "\u001b[2m\u001b[36m(pid=10068)\u001b[0m 2021-02-17 11:30:02.135258: I tensorflow/core/platform/cpu_feature_guard.cc:142] Your CPU supports instructions that this TensorFlow binary was not compiled t\n",
      "\u001b[2m\u001b[36m(pid=19984)\u001b[0m 2021-02-17 11:30:02.132304: I tensorflow/core/platform/cpu_feature_guard.cc:142] Your CPU supports instructions that this TensorFlow binary was not compiled to use: AVX2\n",
      "\u001b[2m\u001b[36m(pid=7268)\u001b[0m ompiled to use: AVX2\n",
      "\u001b[2m\u001b[36m(pid=7268)\u001b[0m 2021-02-17 11:30:02.156732: I tensorflow/stream_executor/platform/default/dso_loader.cc:42] Successfully opened dy\n",
      "\u001b[2m\u001b[36m(pid=21832)\u001b[0m as not compiled to use: AVX2\n",
      "\u001b[2m\u001b[36m(pid=21832)\u001b[0m 2021-02-17 11:30:02.157257: I tensorflow/stream_executor/platform/default/dso_loader.cc:42] Successfully opened \n",
      "\u001b[2m\u001b[36m(pid=10068)\u001b[0m o use: AVX2\n",
      "\u001b[2m\u001b[36m(pid=10068)\u001b[0m 2021-02-17 11:30:02.156575: I tensorflow/stream_executor/platform/default/dso_loader.cc:42] Successfully opened dynamic libra\n",
      "\u001b[2m\u001b[36m(pid=19984)\u001b[0m 2021-02-17 11:30:02.151254: I tensorflow/stream_executor/platform/default/dso_loader.cc:42] Successfully opened dynamic library nvcuda.dll\n",
      "\u001b[2m\u001b[36m(pid=7268)\u001b[0m namic library nvcuda.dll\n",
      "\u001b[2m\u001b[36m(pid=21832)\u001b[0m dynamic library nvcuda.dll\n",
      "\u001b[2m\u001b[36m(pid=10068)\u001b[0m ry nvcuda.dll\n",
      "\u001b[2m\u001b[36m(pid=20604)\u001b[0m 2021-02-17 11:30:02.182029: I tensorflow/core/platform/cpu_feature_guard.cc:142] Your CPU supports instructions that this TensorFlow binary was not compiled to use: AVX2\n",
      "\u001b[2m\u001b[36m(pid=20604)\u001b[0m 2021-02-17 11:30:02.195140: \n",
      "\u001b[2m\u001b[36m(pid=20604)\u001b[0m I tensorflow/stream_executor/platform/default/dso_loader.cc:42] Successfully opened dynamic library nvcuda.dll\n",
      "\u001b[2m\u001b[36m(pid=19984)\u001b[0m 2021-02-17 11:30:02.349335: I tensorflow/core/common_runtim\n",
      "\u001b[2m\u001b[36m(pid=19984)\u001b[0m e/gpu/gpu_device.cc:1640] Found device 0 with properties: \n",
      "\u001b[2m\u001b[36m(pid=19984)\u001b[0m name: GeForce RTX 2080 Ti major: 7 minor: 5 memoryClockRate(GHz): 1.545\n",
      "\u001b[2m\u001b[36m(pid=19984)\u001b[0m pciBusID: 0000:42:00.0\n",
      "\u001b[2m\u001b[36m(pid=19984)\u001b[0m 2021-02-17 11:30:02.360598: I tensorflow/stream_executor/platform/default/dlopen_checker_stub.cc:25] GPU libraries are statically linked, skip dlopen check.\n",
      "\u001b[2m\u001b[36m(pid=19984)\u001b[0m 2021-02-17 11:30:02.367398: I tensorflow/core/common_runtime/gpu/gpu_device.cc:1763] Adding visible gpu devices: 0\n",
      "\u001b[2m\u001b[36m(pid=7268)\u001b[0m 2021-02-17 11:30:02.388799: I tensorflow/core/common_runtime/gpu/gpu_device.cc:1640] Found device 0 with properties: \n",
      "\u001b[2m\u001b[36m(pid=7268)\u001b[0m name: GeForce RTX 2080 Ti major: 7 minor: 5 memoryClockRate(GHz): 1.545\n",
      "\u001b[2m\u001b[36m(pid=7268)\u001b[0m pciBusID: 0000:42:00.0\n",
      "\u001b[2m\u001b[36m(pid=7268)\u001b[0m 2021-02-17 11:30:02.410348: I tensorflow/stream_executor/platform/default/dlopen_checker_stub.cc:25] GPU libraries are statically linked, skip dlopen check.\n",
      "\u001b[2m\u001b[36m(pid=7268)\u001b[0m 2021-02-17 11:30:02.421184: I tensorflow/core/common_runtime/gpu/gpu_device.cc:1763] Adding visible gpu devices: 0\n",
      "\u001b[2m\u001b[36m(pid=21832)\u001b[0m 2021-02-17 11:30:02.388826: I tensorflow/core/common_runtime/gpu/gpu_device.cc:1640] Found device 0 with properties: \n",
      "\u001b[2m\u001b[36m(pid=21832)\u001b[0m name: GeForce RTX 2080 Ti major: 7 minor: 5 memoryClockRate(GHz): 1.545\n",
      "\u001b[2m\u001b[36m(pid=21832)\u001b[0m pciBusID: 0000:42:00.0\n",
      "\u001b[2m\u001b[36m(pid=21832)\u001b[0m 2021-02-17 11:30:02.407708: I tensorflow/stream_executor/platform/default/dlopen_checker_stub.cc:25] GPU libraries are statically linked, skip dlopen check.\n",
      "\u001b[2m\u001b[36m(pid=21832)\u001b[0m 2021-02-17 11:30:02.418397: I tensorflow/core/common_runtime/gpu/gpu_device.cc:1763] Adding visible gpu devices: 0\n",
      "\u001b[2m\u001b[36m(pid=10068)\u001b[0m 2021-02-17 11:30:02.390459: I tensorflow/core/common_runtime/gpu/gpu_device.cc:1640] Found device 0 with properties: \n",
      "\u001b[2m\u001b[36m(pid=10068)\u001b[0m name: GeForce RTX 2080 Ti major: 7 minor: 5 memoryClockRate(GHz): 1.545\n",
      "\u001b[2m\u001b[36m(pid=10068)\u001b[0m pciBusID: 0000:42:00.0\n",
      "\u001b[2m\u001b[36m(pid=10068)\u001b[0m 2021-02-17 11:30:02.410400: I tensorflow/stream_executor/platform/default/dlopen_checker_stub.cc:25] GPU libraries are statically linked, skip dlopen check.\n",
      "\u001b[2m\u001b[36m(pid=10068)\u001b[0m 2021-02-17 11:30:02.420786: I tensorflow/core/common_runtime/gpu/gpu_device.cc:1763] Adding visible gpu devices: 0\n",
      "\u001b[2m\u001b[36m(pid=20604)\u001b[0m 2021-02-17 11:30:02.390500: I tensorflow/core/common_runtime/gpu/gpu_device.cc:1640] Found device 0 with properties: \n",
      "\u001b[2m\u001b[36m(pid=20604)\u001b[0m name: GeForce RTX 2080 Ti major: 7 minor: 5 memoryClockRate(GHz): 1.545\n",
      "\u001b[2m\u001b[36m(pid=20604)\u001b[0m pciBusID: 0000:42:00.0\n",
      "\u001b[2m\u001b[36m(pid=20604)\u001b[0m 2021-02-17 11:30:02.410589: I tensorflow/stream_executor/platform/default/dlopen_checker_stub.cc:25] GPU libraries are statically linked, skip dlopen check.\n",
      "\u001b[2m\u001b[36m(pid=20604)\u001b[0m 2021-02-17 11:30:02.421200: I tensorflow/core/common_runtime/gpu/gpu_device.cc:1763] Adding visible gpu devices: 0\n",
      "\u001b[2m\u001b[36m(pid=19984)\u001b[0m 2021-02-17 11:30:03.643315: I tensorflow/core/common_runtime/gpu/gpu_device.cc:1181] Device interconnect StreamExecutor with strength 1 edge matrix:\n",
      "\u001b[2m\u001b[36m(pid=19984)\u001b[0m 2021-02-17 11:30:03.645665: I tensorflow/core/common_runtime/gpu/gpu_device.cc:1187]      0 \n",
      "\u001b[2m\u001b[36m(pid=19984)\u001b[0m 2021-02-17 11:30:03.647090: I tensorflow/core/common_runtime/gpu/gpu_device.cc:1200] 0:   N \n",
      "\u001b[2m\u001b[36m(pid=19984)\u001b[0m 2021-02-17 11:30:03.649576: I tensorflow/core/common_runtime/gpu/gpu_device.cc:1326] Created TensorFlow device (/job:localhost/replica:0/task:0/device:GPU:0 with 8695 MB memory) -> physical GPU (device: 0, name: GeForce RTX 2080 Ti, pci bus id: 0000:42:00.0, compute capability: 7.5)\n",
      "\u001b[2m\u001b[36m(pid=19984)\u001b[0m WARNING:tensorflow:From C:\\ProgramData\\Anaconda3\\lib\\site-packages\\tensorflow\\python\\ops\\init_ops.py:1251: calling VarianceScaling.__init__ (from tensorflow.python.ops.init_ops) with dtype is deprecated and will be removed in a future version.\n",
      "\u001b[2m\u001b[36m(pid=19984)\u001b[0m Instructions for updating:\n",
      "\u001b[2m\u001b[36m(pid=19984)\u001b[0m Call initializer instance with the dtype argument instead of passing it to the constructor\n",
      "\u001b[2m\u001b[36m(pid=7268)\u001b[0m 2021-02-17 11:30:03.726431: I tensorflow/core/common_runtime/gpu/gpu_device.cc:1181] Device interconnect StreamExecutor with strength 1 edge matrix:\n",
      "\u001b[2m\u001b[36m(pid=7268)\u001b[0m 2021-02-17 11:30:03.728649: I tensorflow/core/common_runtime/gpu/gpu_device.cc:1187]      0 \n",
      "\u001b[2m\u001b[36m(pid=7268)\u001b[0m 2021-02-17 11:30:03.730931: I tensorflow/core/common_runtime/gpu/gpu_device.cc:1200] 0:   N \n",
      "\u001b[2m\u001b[36m(pid=7268)\u001b[0m 2021-02-17 11:30:03.734540: I tensorflow/core/common_runtime/gpu/gpu_device.cc:1326] Created TensorFlow device (/job:localhost/replica:0/task:0/device:GPU:0 with 8695 MB memory) -> physical GPU (device: 0, name: GeForce RTX 2080 Ti, pci bus id: 0000:42:00.0, compute capability: 7.5)\n",
      "\u001b[2m\u001b[36m(pid=7268)\u001b[0m WARNING:tensorflow:From C:\\ProgramData\\Anaconda3\\lib\\site-packages\\tensorflow\\python\\ops\\init_ops.py:1251: calling VarianceScaling.__init__ (from tensorflow.python.ops.init_ops) with dtype is deprecated and will be removed in a future version.\n",
      "\u001b[2m\u001b[36m(pid=7268)\u001b[0m Instructions for updating:\n",
      "\u001b[2m\u001b[36m(pid=7268)\u001b[0m Call initializer instance with the dtype argument instead of passing it to the constructor\n",
      "\u001b[2m\u001b[36m(pid=21832)\u001b[0m 2021-02-17 11:30:03.697936: I tensorflow/core/common_runtime/gpu/gpu_device.cc:1181] Device interconnect StreamExecutor with strength 1 edge matrix:\n",
      "\u001b[2m\u001b[36m(pid=21832)\u001b[0m 2021-02-17 11:30:03.700222: I tensorflow/core/common_runtime/gpu/gpu_device.cc:1187]      0 \n",
      "\u001b[2m\u001b[36m(pid=21832)\u001b[0m 2021-02-17 11:30:03.701594: I tensorflow/core/common_runtime/gpu/gpu_device.cc:1200] 0:   N \n",
      "\u001b[2m\u001b[36m(pid=21832)\u001b[0m 2021-02-17 11:30:03.703946: I tensorflow/core/common_runtime/gpu/gpu_device.cc:1326] Created TensorFlow device (/job:localhost/replica:0/task:0/device:GPU:0 with 8695 MB memory) -> physical GPU (device: 0, name: GeForce RTX 2080 Ti, pci bus id: 0000:42:00.0, compute capability: 7.5)\n",
      "\u001b[2m\u001b[36m(pid=21832)\u001b[0m WARNING:tensorflow:From C:\\ProgramData\\Anaconda3\\lib\\site-packages\\tensorflow\\python\\ops\\init_ops.py:1251: calling VarianceScaling.__init__ (from tensorflow.python.ops.init_ops) with dtype is deprecated and will be removed in a future version.\n",
      "\u001b[2m\u001b[36m(pid=21832)\u001b[0m Instructions for updating:\n",
      "\u001b[2m\u001b[36m(pid=21832)\u001b[0m Call initializer instance with the dtype argument instead of passing it to the constructor\n",
      "\u001b[2m\u001b[36m(pid=10068)\u001b[0m 2021-02-17 11:30:03.732214: I tensorflow/core/common_runtime/gpu/gpu_device.cc:1181] Device interconnect StreamExecutor with strength 1 edge matrix:\n",
      "\u001b[2m\u001b[36m(pid=10068)\u001b[0m 2021-02-17 11:30:03.736914: I tensorflow/core/common_runtime/gpu/gpu_device.cc:1187]      0 \n",
      "\u001b[2m\u001b[36m(pid=10068)\u001b[0m 2021-02-17 11:30:03.739921: I tensorflow/core/common_runtime/gpu/gpu_device.cc:1200] 0:   N \n",
      "\u001b[2m\u001b[36m(pid=10068)\u001b[0m 2021-02-17 11:30:03.743865: I tensorflow/core/common_runtime/gpu/gpu_device.cc:1326] Created TensorFlow device (/job:localhost/replica:0/task:0/device:GPU:0 with 8695 MB memory) -> physical GPU (device: 0, name: GeForce RTX 2080 Ti, pci bus id: 0000:42:00.0, compute capability: 7.5)\n",
      "\u001b[2m\u001b[36m(pid=20604)\u001b[0m 2021-02-17 11:30:03.729076: I tensorflow/core/common_runtime/gpu/gpu_device.cc:1181] Device interconnect StreamExecutor with strength 1 edge matrix:\n",
      "\u001b[2m\u001b[36m(pid=20604)\u001b[0m 2021-02-17 11:30:03.733602: I tensorflow/core/common_runtime/gpu/gpu_device.cc:1187]      0 \n",
      "\u001b[2m\u001b[36m(pid=20604)\u001b[0m 2021-02-17 11:30:03.736424: I tensorflow/core/common_runtime/gpu/gpu_device.cc:1200] 0:   N \n",
      "\u001b[2m\u001b[36m(pid=20604)\u001b[0m 2021-02-17 11:30:03.740209: I tensorflow/core/common_runtime/gpu/gpu_device.cc:1326] Created TensorFlow device (/job:localhost/replica:0/task:0/device:GPU:0 with 8695 MB memory) -> physical GPU (device: 0, name: GeForce RTX 2080 Ti, pci bus id: 0000:42:00.0, compute capability: 7.5)\n",
      "\u001b[2m\u001b[36m(pid=10068)\u001b[0m WARNING:tensorflow:From C:\\ProgramData\\Anaconda3\\lib\\site-packages\\tensorflow\\python\\ops\\init_ops.py:1251: calling VarianceScaling.__init__ (from tensorflow.python.ops.init_ops) with dtype is deprecated and will be removed in a future version.\n",
      "\u001b[2m\u001b[36m(pid=10068)\u001b[0m Instructions for updating:\n",
      "\u001b[2m\u001b[36m(pid=10068)\u001b[0m Call initializer instance with the dtype argument instead of passing it to the constructor\n",
      "\u001b[2m\u001b[36m(pid=20604)\u001b[0m WARNING:tensorflow:From C:\\ProgramData\\Anaconda3\\lib\\site-packages\\tensorflow\\python\\ops\\init_ops.py:1251: calling VarianceScaling.__init__ (from tensorflow.python.ops.init_ops) with dtype is deprecated and will be removed in a future version.\n",
      "\u001b[2m\u001b[36m(pid=20604)\u001b[0m Instructions for updating:\n",
      "\u001b[2m\u001b[36m(pid=20604)\u001b[0m Call initializer instance with the dtype argument instead of passing it to the constructor\n"
     ]
    }
   ],
   "source": [
    " [self_play_worker.play.remote(shared_storage_worker, replay_buffer_worker)\n",
    "            for self_play_worker in self_play_workers]\n",
    "\n",
    "training_worker.train.remote(replay_buffer_worker, shared_storage_worker)\n",
    "# training_worker.train_standalone.remote(replay_buffer_worker, shared_storage_worker)"
   ]
  },
  {
   "cell_type": "code",
   "execution_count": null,
   "metadata": {},
   "outputs": [],
   "source": []
  },
  {
   "cell_type": "code",
   "execution_count": 21,
   "metadata": {
    "scrolled": true
   },
   "outputs": [
    {
     "data": {
      "image/png": "[encoded data removed]",
      "text/plain": [
       "<Figure size 432x288 with 1 Axes>"
      ]
     },
     "metadata": {
      "needs_background": "light"
     },
     "output_type": "display_data"
    },
    {
     "ename": "KeyboardInterrupt",
     "evalue": "",
     "output_type": "error",
     "traceback": [
      "\u001b[1;31m---------------------------------------------------------------------------\u001b[0m",
      "\u001b[1;31mKeyboardInterrupt\u001b[0m                         Traceback (most recent call last)",
      "\u001b[1;32m<ipython-input-21-26acfbf5bb59>\u001b[0m in \u001b[0;36m<module>\u001b[1;34m\u001b[0m\n\u001b[0;32m      3\u001b[0m \u001b[0mtrain_losses\u001b[0m \u001b[1;33m=\u001b[0m \u001b[1;33m[\u001b[0m\u001b[1;33m]\u001b[0m\u001b[1;33m\u001b[0m\u001b[1;33m\u001b[0m\u001b[0m\n\u001b[0;32m      4\u001b[0m \u001b[1;32mfor\u001b[0m \u001b[0mi\u001b[0m \u001b[1;32min\u001b[0m \u001b[0mrange\u001b[0m\u001b[1;33m(\u001b[0m\u001b[1;36m1000\u001b[0m\u001b[1;33m)\u001b[0m\u001b[1;33m:\u001b[0m\u001b[1;33m\u001b[0m\u001b[1;33m\u001b[0m\u001b[0m\n\u001b[1;32m----> 5\u001b[1;33m     \u001b[0msteps_played\u001b[0m \u001b[1;33m=\u001b[0m \u001b[0mray\u001b[0m\u001b[1;33m.\u001b[0m\u001b[0mget\u001b[0m\u001b[1;33m(\u001b[0m\u001b[0mshared_storage_worker\u001b[0m\u001b[1;33m.\u001b[0m\u001b[0mget_info\u001b[0m\u001b[1;33m.\u001b[0m\u001b[0mremote\u001b[0m\u001b[1;33m(\u001b[0m\u001b[1;34m\"num_played_games\"\u001b[0m\u001b[1;33m)\u001b[0m\u001b[1;33m)\u001b[0m\u001b[1;33m\u001b[0m\u001b[1;33m\u001b[0m\u001b[0m\n\u001b[0m\u001b[0;32m      6\u001b[0m     \u001b[0mwrk_loss\u001b[0m \u001b[1;33m=\u001b[0m \u001b[0mray\u001b[0m\u001b[1;33m.\u001b[0m\u001b[0mget\u001b[0m\u001b[1;33m(\u001b[0m\u001b[0mreplay_buffer_worker\u001b[0m\u001b[1;33m.\u001b[0m\u001b[0mget_latest_loss\u001b[0m\u001b[1;33m.\u001b[0m\u001b[0mremote\u001b[0m\u001b[1;33m(\u001b[0m\u001b[1;33m)\u001b[0m\u001b[1;33m)\u001b[0m\u001b[1;33m\u001b[0m\u001b[1;33m\u001b[0m\u001b[0m\n\u001b[0;32m      7\u001b[0m     \u001b[0mtrain_loss\u001b[0m \u001b[1;33m=\u001b[0m \u001b[0mray\u001b[0m\u001b[1;33m.\u001b[0m\u001b[0mget\u001b[0m\u001b[1;33m(\u001b[0m\u001b[0mshared_storage_worker\u001b[0m\u001b[1;33m.\u001b[0m\u001b[0mget_info\u001b[0m\u001b[1;33m.\u001b[0m\u001b[0mremote\u001b[0m\u001b[1;33m(\u001b[0m\u001b[1;34m\"loss\"\u001b[0m\u001b[1;33m)\u001b[0m\u001b[1;33m)\u001b[0m\u001b[1;33m\u001b[0m\u001b[1;33m\u001b[0m\u001b[0m\n",
      "\u001b[1;32m~\\AppData\\Roaming\\Python\\Python37\\site-packages\\ray\\worker.py\u001b[0m in \u001b[0;36mget\u001b[1;34m(object_refs, timeout)\u001b[0m\n\u001b[0;32m   1370\u001b[0m         \u001b[1;31m# TODO(ujvl): Consider how to allow user to retrieve the ready objects.\u001b[0m\u001b[1;33m\u001b[0m\u001b[1;33m\u001b[0m\u001b[1;33m\u001b[0m\u001b[0m\n\u001b[0;32m   1371\u001b[0m         values, debugger_breakpoint = worker.get_objects(\n\u001b[1;32m-> 1372\u001b[1;33m             object_refs, timeout=timeout)\n\u001b[0m\u001b[0;32m   1373\u001b[0m         \u001b[1;32mfor\u001b[0m \u001b[0mi\u001b[0m\u001b[1;33m,\u001b[0m \u001b[0mvalue\u001b[0m \u001b[1;32min\u001b[0m \u001b[0menumerate\u001b[0m\u001b[1;33m(\u001b[0m\u001b[0mvalues\u001b[0m\u001b[1;33m)\u001b[0m\u001b[1;33m:\u001b[0m\u001b[1;33m\u001b[0m\u001b[1;33m\u001b[0m\u001b[0m\n\u001b[0;32m   1374\u001b[0m             \u001b[1;32mif\u001b[0m \u001b[0misinstance\u001b[0m\u001b[1;33m(\u001b[0m\u001b[0mvalue\u001b[0m\u001b[1;33m,\u001b[0m \u001b[0mRayError\u001b[0m\u001b[1;33m)\u001b[0m\u001b[1;33m:\u001b[0m\u001b[1;33m\u001b[0m\u001b[1;33m\u001b[0m\u001b[0m\n",
      "\u001b[1;32m~\\AppData\\Roaming\\Python\\Python37\\site-packages\\ray\\worker.py\u001b[0m in \u001b[0;36mget_objects\u001b[1;34m(self, object_refs, timeout)\u001b[0m\n\u001b[0;32m    302\u001b[0m         \u001b[0mtimeout_ms\u001b[0m \u001b[1;33m=\u001b[0m \u001b[0mint\u001b[0m\u001b[1;33m(\u001b[0m\u001b[0mtimeout\u001b[0m \u001b[1;33m*\u001b[0m \u001b[1;36m1000\u001b[0m\u001b[1;33m)\u001b[0m \u001b[1;32mif\u001b[0m \u001b[0mtimeout\u001b[0m \u001b[1;32melse\u001b[0m \u001b[1;33m-\u001b[0m\u001b[1;36m1\u001b[0m\u001b[1;33m\u001b[0m\u001b[1;33m\u001b[0m\u001b[0m\n\u001b[0;32m    303\u001b[0m         data_metadata_pairs = self.core_worker.get_objects(\n\u001b[1;32m--> 304\u001b[1;33m             object_refs, self.current_task_id, timeout_ms)\n\u001b[0m\u001b[0;32m    305\u001b[0m         \u001b[0mdebugger_breakpoint\u001b[0m \u001b[1;33m=\u001b[0m \u001b[1;34mb\"\"\u001b[0m\u001b[1;33m\u001b[0m\u001b[1;33m\u001b[0m\u001b[0m\n\u001b[0;32m    306\u001b[0m         \u001b[1;32mfor\u001b[0m \u001b[1;33m(\u001b[0m\u001b[0mdata\u001b[0m\u001b[1;33m,\u001b[0m \u001b[0mmetadata\u001b[0m\u001b[1;33m)\u001b[0m \u001b[1;32min\u001b[0m \u001b[0mdata_metadata_pairs\u001b[0m\u001b[1;33m:\u001b[0m\u001b[1;33m\u001b[0m\u001b[1;33m\u001b[0m\u001b[0m\n",
      "\u001b[1;31mKeyboardInterrupt\u001b[0m: "
     ]
    },
    {
     "data": {
      "image/png": "[encoded data removed]",
      "text/plain": [
       "<Figure size 432x288 with 1 Axes>"
      ]
     },
     "metadata": {
      "needs_background": "light"
     },
     "output_type": "display_data"
    }
   ],
   "source": [
    "played_steps = []\n",
    "wrk_losses = []\n",
    "train_losses = []\n",
    "for i in range(1000):\n",
    "    steps_played = ray.get(shared_storage_worker.get_info.remote(\"num_played_games\"))\n",
    "    wrk_loss = ray.get(replay_buffer_worker.get_latest_loss.remote())\n",
    "    train_loss = ray.get(shared_storage_worker.get_info.remote(\"loss\"))\n",
    "    played_steps.append(steps_played)\n",
    "    wrk_losses.append(wrk_loss)\n",
    "    train_losses.append(train_loss)\n",
    "    \n",
    "    clear_output(True)\n",
    "    plt.plot(played_steps,wrk_losses)\n",
    "    plt.plot(played_steps,train_losses)  \n",
    "    plt.show()\n",
    "    plt.ylim(0,0.3)\n",
    "    time.sleep(0.5)\n",
    "    "
   ]
  },
  {
   "cell_type": "code",
   "execution_count": 22,
   "metadata": {},
   "outputs": [],
   "source": [
    "weights = ray.get(shared_storage_worker.get_info.remote(\"weights\"))"
   ]
  },
  {
   "cell_type": "code",
   "execution_count": 23,
   "metadata": {
    "scrolled": true
   },
   "outputs": [
    {
     "name": "stdout",
     "output_type": "stream",
     "text": [
      "WARNING:tensorflow:From C:\\ProgramData\\Anaconda3\\lib\\site-packages\\tensorflow\\python\\ops\\init_ops.py:1251: calling VarianceScaling.__init__ (from tensorflow.python.ops.init_ops) with dtype is deprecated and will be removed in a future version.\n",
      "Instructions for updating:\n",
      "Call initializer instance with the dtype argument instead of passing it to the constructor\n"
     ]
    }
   ],
   "source": [
    "model = Model()\n",
    "model.set_weights(weights)\n",
    "# model = trainer.model"
   ]
  },
  {
   "cell_type": "code",
   "execution_count": null,
   "metadata": {},
   "outputs": [],
   "source": []
  },
  {
   "cell_type": "code",
   "execution_count": 24,
   "metadata": {},
   "outputs": [],
   "source": [
    "x = np.random.random(size = (1000,2))*10-5\n",
    "x[:,1] = 0\n",
    "y = distrib_func(x)"
   ]
  },
  {
   "cell_type": "code",
   "execution_count": null,
   "metadata": {},
   "outputs": [],
   "source": []
  },
  {
   "cell_type": "code",
   "execution_count": 25,
   "metadata": {
    "scrolled": true
   },
   "outputs": [],
   "source": [
    "y_pred = model.predict_all(x)"
   ]
  },
  {
   "cell_type": "code",
   "execution_count": 26,
   "metadata": {},
   "outputs": [
    {
     "data": {
      "text/plain": [
       "[<matplotlib.lines.Line2D at 0x25664bbb278>]"
      ]
     },
     "execution_count": 26,
     "metadata": {},
     "output_type": "execute_result"
    },
    {
     "data": {
      "image/png": "[encoded data removed]",
      "text/plain": [
       "<Figure size 432x288 with 1 Axes>"
      ]
     },
     "metadata": {
      "needs_background": "light"
     },
     "output_type": "display_data"
    }
   ],
   "source": [
    "plt.plot(x[:,0],y,'o')\n",
    "plt.plot(x[:,0],y_pred,'o')"
   ]
  },
  {
   "cell_type": "code",
   "execution_count": 26,
   "metadata": {},
   "outputs": [
    {
     "data": {
      "text/plain": [
       "0.31723504376670986"
      ]
     },
     "execution_count": 26,
     "metadata": {},
     "output_type": "execute_result"
    }
   ],
   "source": [
    "np.square(y.mean()-y).mean()"
   ]
  },
  {
   "cell_type": "code",
   "execution_count": 27,
   "metadata": {},
   "outputs": [
    {
     "data": {
      "text/plain": [
       "0.3003781416572673"
      ]
     },
     "execution_count": 27,
     "metadata": {},
     "output_type": "execute_result"
    }
   ],
   "source": [
    "np.square(y_pred-y).mean()"
   ]
  },
  {
   "cell_type": "code",
   "execution_count": null,
   "metadata": {},
   "outputs": [],
   "source": []
  }
 ],
 "metadata": {
  "kernelspec": {
   "display_name": "Python 3",
   "language": "python",
   "name": "python3"
  },
  "language_info": {
   "codemirror_mode": {
    "name": "ipython",
    "version": 3
   },
   "file_extension": ".py",
   "mimetype": "text/x-python",
   "name": "python",
   "nbconvert_exporter": "python",
   "pygments_lexer": "ipython3",
   "version": "3.7.3"
  }
 },
 "nbformat": 4,
 "nbformat_minor": 2
}
